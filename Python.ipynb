{
 "cells": [
  {
   "cell_type": "markdown",
   "id": "58302175-566f-4b4d-81b7-3f4b7ea145b3",
   "metadata": {},
   "source": [
    "## Problem Statement"
   ]
  },
  {
   "cell_type": "markdown",
   "id": "99f16fe3-ca4e-4b7b-9617-f9cedabe8c81",
   "metadata": {},
   "source": [
    "**In a competitive market like the restaurant industry, understanding the factors that influence business success is crucial for stakeholders. Utilizing the Yelp\n",
    "dataset, this project aims to investigate the relationship between user engagement (reviews, tips, and check-ins) and business success metrics (review\n",
    "count, ratings) for restaurants.**"
   ]
  },
  {
   "cell_type": "markdown",
   "id": "788f83de-e635-40cb-81e1-f856e641ab71",
   "metadata": {},
   "source": [
    "## Research Objectives"
   ]
  },
  {
   "cell_type": "markdown",
   "id": "cdb812d1-6569-4707-8a5f-f17eb50933f7",
   "metadata": {},
   "source": [
    "1. **Quantify the correlation between user engagement (reviews, tips, check-ins) and review count/average star rating:** This will help us determine if\n",
    "restaurants with higher user engagement experience a corresponding increase in reviews and ratings.\n",
    "2. **Analyze the impact of sentiment on review count and average star rating:** We will investigate if positive sentiment in reviews and tips translates to higher star\n",
    "ratings and potentially influences the total number of reviews left.\n",
    "3. **Time trends in User Engagement:** We will explore if consistent user engagement over time is a stronger indicator of long-term success compared to sporadic\n",
    "bursts of activity."
   ]
  },
  {
   "cell_type": "markdown",
   "id": "72453f5c-a69f-4f5a-a208-b449c2f0c47f",
   "metadata": {},
   "source": [
    "## Hypothesis Testing"
   ]
  },
  {
   "cell_type": "markdown",
   "id": "1b09612d-5d8f-445c-a88b-959966e3871f",
   "metadata": {},
   "source": [
    "• **Higher levels of user engagement (more reviews, tips, and check-ins) correlate with higher review counts and ratings for restaurants.**   \n",
    "• **Positive sentiment expressed in reviews and tips contributes to higher overall ratings and review counts for restaurants.**   \n",
    "• **Consistent engagement over time is positively associated with sustained business success for restaurants.**"
   ]
  },
  {
   "cell_type": "markdown",
   "id": "c236a79d-b6ff-4ba3-927d-b3616c367e6c",
   "metadata": {},
   "source": [
    "## Importing Libraries"
   ]
  },
  {
   "cell_type": "code",
   "execution_count": 2,
   "id": "9a08310f-5d8d-4da9-b13d-d62c23e32252",
   "metadata": {},
   "outputs": [],
   "source": [
    "# Importing pandas for data manipulation and analysis\n",
    "import pandas as pd\n",
    "\n",
    "# Importing matplotlib for plotting and visualization\n",
    "import matplotlib.pyplot as plt\n",
    "\n",
    "# Importing seaborn for advanced statistical data visualization\n",
    "import seaborn as sns\n",
    "\n",
    "# Importing datetime for working with dates and times\n",
    "from datetime import datetime\n",
    "\n",
    "# Importing numpy for numerical operations and array manipulation\n",
    "import numpy as np\n",
    "\n",
    "# Importing sqlite3 for interacting with SQLite databases\n",
    "import sqlite3\n",
    "\n",
    "# Importing folium for creating interactive maps\n",
    "import folium\n",
    "\n",
    "# Importing Nominatim geocoder from geopy for converting addresses into geolocation data\n",
    "from geopy.geocoders import Nominatim\n",
    "\n",
    "# Importing LinearSegmentedColormap for creating custom color maps in matplotlib\n",
    "from matplotlib.colors import LinearSegmentedColormap\n",
    "\n",
    "# Importing display from IPython for displaying rich media in Jupyter notebooks\n",
    "from IPython.display import display\n",
    "\n",
    "# Suppressing warnings to avoid clutter in the output\n",
    "import warnings\n",
    "warnings.filterwarnings('ignore')"
   ]
  },
  {
   "cell_type": "markdown",
   "id": "873bf7f3-d0b5-45d0-859b-bd867a509c1d",
   "metadata": {},
   "source": [
    "## Database Connection"
   ]
  },
  {
   "cell_type": "code",
   "execution_count": 3,
   "id": "eb0ccaff-5474-445f-ab00-6d6d5b2bee7b",
   "metadata": {},
   "outputs": [],
   "source": [
    "# Establishes a connection to the Yelp database named 'yelp.db'.\n",
    "# This connection object (`conn`) will be used to interact with the database.\n",
    "conn = sqlite3.connect('yelp.db')"
   ]
  },
  {
   "cell_type": "code",
   "execution_count": 4,
   "id": "579c54da-05a7-4948-85b3-29bbc5e4b096",
   "metadata": {},
   "outputs": [],
   "source": [
    "# Reads the names of all tables in the connected database (`conn`) into a Pandas DataFrame named `tables`.\n",
    "# The `sqlite_master` table is a system table that contains metadata about the database, \n",
    "# and this query selects the `name` column from rows where the `type` is 'table'.\n",
    "tables = pd.read_sql_query(\"SELECT name from sqlite_master where type = 'table'\", conn)"
   ]
  },
  {
   "cell_type": "code",
   "execution_count": 5,
   "id": "1c1a5f52-d92a-4fa9-a6c2-3e17eaaf90ba",
   "metadata": {},
   "outputs": [
    {
     "data": {
      "text/html": [
       "<div>\n",
       "<style scoped>\n",
       "    .dataframe tbody tr th:only-of-type {\n",
       "        vertical-align: middle;\n",
       "    }\n",
       "\n",
       "    .dataframe tbody tr th {\n",
       "        vertical-align: top;\n",
       "    }\n",
       "\n",
       "    .dataframe thead th {\n",
       "        text-align: right;\n",
       "    }\n",
       "</style>\n",
       "<table border=\"1\" class=\"dataframe\">\n",
       "  <thead>\n",
       "    <tr style=\"text-align: right;\">\n",
       "      <th></th>\n",
       "      <th>name</th>\n",
       "    </tr>\n",
       "  </thead>\n",
       "  <tbody>\n",
       "    <tr>\n",
       "      <th>0</th>\n",
       "      <td>business</td>\n",
       "    </tr>\n",
       "    <tr>\n",
       "      <th>1</th>\n",
       "      <td>review</td>\n",
       "    </tr>\n",
       "    <tr>\n",
       "      <th>2</th>\n",
       "      <td>user</td>\n",
       "    </tr>\n",
       "    <tr>\n",
       "      <th>3</th>\n",
       "      <td>tip</td>\n",
       "    </tr>\n",
       "    <tr>\n",
       "      <th>4</th>\n",
       "      <td>checkin</td>\n",
       "    </tr>\n",
       "  </tbody>\n",
       "</table>\n",
       "</div>"
      ],
      "text/plain": [
       "       name\n",
       "0  business\n",
       "1    review\n",
       "2      user\n",
       "3       tip\n",
       "4   checkin"
      ]
     },
     "execution_count": 5,
     "metadata": {},
     "output_type": "execute_result"
    }
   ],
   "source": [
    "tables"
   ]
  },
  {
   "cell_type": "code",
   "execution_count": 6,
   "id": "24b11a6f-206d-4716-b689-62fdbe58168a",
   "metadata": {},
   "outputs": [],
   "source": [
    "# Import libraries:\n",
    "#   - json: for working with JSON data\n",
    "#   - create_engine: from SQLAlchemy for interacting with relational databases\n",
    "import json\n",
    "from sqlalchemy import create_engine"
   ]
  },
  {
   "cell_type": "code",
   "execution_count": 7,
   "id": "573cccd6-934d-45b3-957d-42c8886d85d9",
   "metadata": {},
   "outputs": [
    {
     "name": "stdout",
     "output_type": "stream",
     "text": [
      "business_df shape: (150346, 14)\n",
      "checkin_df shape: (131930, 2)\n",
      "review_df shape: (6990280, 9)\n",
      "tip_df shape: (908915, 5)\n",
      "user_df shape: (1987897, 22)\n"
     ]
    }
   ],
   "source": [
    "# Load business data\n",
    "with open('C:/Users/pande/Downloads/archive/yelp_academic_dataset_business.json', 'r', encoding='utf-8') as f:\n",
    "    business_data = [json.loads(line) for line in f]\n",
    "business_df = pd.DataFrame(business_data)\n",
    "\n",
    "# Load checkin data\n",
    "with open('C:/Users/pande/Downloads/archive/yelp_academic_dataset_checkin.json', 'r') as f:\n",
    "    checkin_data = [json.loads(line) for line in f]\n",
    "checkin_df = pd.DataFrame(checkin_data)\n",
    "\n",
    "# Load review data\n",
    "with open('C:/Users/pande/Downloads/archive/yelp_academic_dataset_review.json', 'r', encoding='utf-8') as f:\n",
    "    review_data = [json.loads(line) for line in f]\n",
    "review_df = pd.DataFrame(review_data)\n",
    "\n",
    "# Load tip data\n",
    "with open('C:/Users/pande/Downloads/archive/yelp_academic_dataset_tip.json', 'r', encoding='utf-8') as f:\n",
    "    tip_data = [json.loads(line) for line in f]\n",
    "tip_df = pd.DataFrame(tip_data)\n",
    "\n",
    "# Load user data\n",
    "with open('C:/Users/pande/Downloads/archive/yelp_academic_dataset_user.json', 'r', encoding='utf-8') as f:\n",
    "    user_data = [json.loads(line) for line in f]\n",
    "user_df = pd.DataFrame(user_data)\n",
    "\n",
    "# Print shapes of the loaded DataFrames\n",
    "print(\"business_df shape:\", business_df.shape)\n",
    "print(\"checkin_df shape:\", checkin_df.shape)\n",
    "print(\"review_df shape:\", review_df.shape)\n",
    "print(\"tip_df shape:\", tip_df.shape)\n",
    "print(\"user_df shape:\", user_df.shape)"
   ]
  },
  {
   "cell_type": "code",
   "execution_count": 8,
   "id": "aa9b6f89-3a52-430c-bf25-c012426ce58f",
   "metadata": {},
   "outputs": [],
   "source": [
    "# Removes the 'attributes' and 'hours' columns from the business_df DataFrame in place.\n",
    "# This modification is done 'in-place' which means the original business_df DataFrame is altered.\n",
    "# If you prefer to keep the original DataFrame intact, you can remove the 'inplace=True' argument.\n",
    "business_df.drop(['attributes', 'hours'], axis=1, inplace=True)"
   ]
  },
  {
   "cell_type": "code",
   "execution_count": null,
   "id": "444c7618-a06f-4cf9-95c5-a5b3b08c7128",
   "metadata": {},
   "outputs": [],
   "source": [
    "# Create a database engine object for the 'yelp.db' SQLite database\n",
    "engine = create_engine('sqlite:///yelp.db')\n",
    "\n",
    "# Define a function to load a pandas DataFrame into a database table\n",
    "def load_dataframe (df, table_name, engine):\n",
    "    df.to_sql(table_name, con=engine, if_exists='replace', index=False)\n",
    "\n",
    "# Load each DataFrame into a separate table \n",
    "load_dataframe (business_df, 'business', engine) \n",
    "load_dataframe(review_df, 'review', engine) \n",
    "load_dataframe (user_df, 'user', engine) \n",
    "load_dataframe (tip_df, 'tip', engine)\n",
    "load_dataframe (checkin_df, 'checkin', engine)"
   ]
  },
  {
   "cell_type": "code",
   "execution_count": null,
   "id": "7c2a3668-3f95-4618-9300-f539f2dead9a",
   "metadata": {},
   "outputs": [],
   "source": [
    "# Explore what type of data available in the table\n",
    "for table in tables['name']:\n",
    "    display(pd.read_sql_query(f\"SELECT * FROM {table} LIMIT 5\", conn))"
   ]
  },
  {
   "cell_type": "markdown",
   "id": "cd4e6e8a-753c-45c5-8976-7551259a17b1",
   "metadata": {},
   "source": [
    "## Data Analysis"
   ]
  },
  {
   "cell_type": "code",
   "execution_count": null,
   "id": "23d38924-b1fb-44c8-a627-034b17a12180",
   "metadata": {},
   "outputs": [],
   "source": [
    "# Checking total count of all business\n",
    "pd.read_sql_query(\"SELECT COUNT(*) FROM business\", conn)"
   ]
  },
  {
   "cell_type": "code",
   "execution_count": null,
   "id": "a4ab7c8d-f51a-4dae-9bd6-387ca41016bb",
   "metadata": {},
   "outputs": [],
   "source": [
    "# Checking total count of all restaurants which are open or closed\n",
    "pd.read_sql_query(\"\"\"SELECT business_id FROM business WHERE LOWER(categories) LIKE '%restaurant%' \"\"\", conn)"
   ]
  },
  {
   "cell_type": "code",
   "execution_count": null,
   "id": "daf0bb70-482d-4687-a4b8-617d446d3ee1",
   "metadata": {},
   "outputs": [],
   "source": [
    "# Checking total count of all restaurants which are OPEN \n",
    "business_id = pd.read_sql_query(\"\"\"SELECT business_id, review_count FROM business WHERE LOWER(categories) LIKE '%restaurant%' AND is_open = 1\"\"\", conn)"
   ]
  },
  {
   "cell_type": "code",
   "execution_count": null,
   "id": "e2412f05-641e-4c15-8f2e-10542b97d7ff",
   "metadata": {},
   "outputs": [],
   "source": [
    "# What is the descriptive stats for review count and star rating for the business(restaurants)?\n",
    "# To find descriptive stats we need AVG, MIN, MAX, MEDIAN\n",
    "\n",
    "# Getting descriptive stats for review count and star rating\n",
    "pd.read_sql_query(f\"\"\"SELECT \n",
    "AVG(review_count) AS Average_Reviews,\n",
    "MIN(review_count) AS Min_Review_Count, \n",
    "MAX(review_count) AS Max_Review_Count,\n",
    "(SELECT review_count FROM business ORDER BY review_count LIMIT 1 OFFSET (SELECT COUNT(*) FROM business) / 2) AS Median_Review,\n",
    "\n",
    "\n",
    "AVG(stars) AS Average_Stars,\n",
    "MIN(stars) AS Min_Star, \n",
    "MAX(stars) AS Max_Star,\n",
    "(SELECT stars FROM business ORDER BY stars LIMIT 1 OFFSET (SELECT COUNT(*) FROM business) / 2) AS Median_Star_Rating\n",
    "\n",
    "FROM business WHERE business_id IN {tuple(business_id['business_id'])} \"\"\", conn).transpose()"
   ]
  },
  {
   "cell_type": "code",
   "execution_count": null,
   "id": "e9aa3880-8e5b-4940-9e45-c969b62a589b",
   "metadata": {},
   "outputs": [],
   "source": [
    "# Writing a function for identifying outliers\n",
    "def remove_outliers(df, col):\n",
    "    q1 = df[col].quantile(0.25)\n",
    "    q3 = df[col].quantile(0.75)\n",
    "    IQR = q3 - q1\n",
    "    lower_bound = q1 - 1.5 * IQR\n",
    "    upper_bound = q3 + 1.5 * IQR\n",
    "    df = df[(df[col] >= lower_bound) & (df[col] <= upper_bound)]\n",
    "    return df"
   ]
  },
  {
   "cell_type": "code",
   "execution_count": null,
   "id": "e21f8f8a-d028-4886-a1f0-93b5fbe30dd2",
   "metadata": {},
   "outputs": [],
   "source": [
    "business_id = remove_outliers(business_id, 'review_count')"
   ]
  },
  {
   "cell_type": "code",
   "execution_count": null,
   "id": "5eb20412-756b-4bcd-837f-6cf9b9066804",
   "metadata": {},
   "outputs": [],
   "source": [
    "business_id.shape"
   ]
  },
  {
   "cell_type": "code",
   "execution_count": null,
   "id": "008f146e-4475-4a24-aa75-f2b6e7646c99",
   "metadata": {},
   "outputs": [],
   "source": [
    "pd.read_sql_query(f\"\"\"SELECT \n",
    "AVG(review_count) AS Average_Reviews,\n",
    "MIN(review_count) AS Min_Review, \n",
    "MAX(review_count) AS Max_Review,\n",
    "(SELECT review_count FROM business ORDER BY review_count LIMIT 1 OFFSET (SELECT COUNT(*) FROM business) / 2) AS Median_Review,\n",
    "\n",
    "\n",
    "AVG(stars) AS Average_Stars,\n",
    "MIN(stars) AS Min_Star, \n",
    "MAX(stars) AS Max_Star,\n",
    "(SELECT stars FROM business ORDER BY stars LIMIT 1 OFFSET (SELECT COUNT(*) FROM business) / 2) AS Median_Star_Rating\n",
    "\n",
    "FROM business WHERE business_id IN {tuple(business_id['business_id'])} \"\"\", conn).transpose()"
   ]
  },
  {
   "cell_type": "code",
   "execution_count": null,
   "id": "1164ec35-fcbb-4e17-b936-e9597e5dc132",
   "metadata": {},
   "outputs": [],
   "source": [
    "# Which restaurants have the highest number of reviews?\n",
    "pd.read_sql_query(f\"\"\"SELECT name, SUM(review_count) AS Total_Review, AVG(stars) AS Average_Rating\n",
    "FROM business\n",
    "WHERE business_id IN {tuple(business_id['business_id'])}\n",
    "GROUP BY name\n",
    "ORDER BY Total_Review DESC\n",
    "LIMIT 10\"\"\", conn)"
   ]
  },
  {
   "cell_type": "code",
   "execution_count": null,
   "id": "1402cbb5-c2af-42cf-8fa1-af1aafcd43a5",
   "metadata": {},
   "outputs": [],
   "source": [
    "# Which restaurants have the highest number of ratings?\n",
    "pd.read_sql_query(f\"\"\"SELECT name, SUM(review_count) AS Total_Review, AVG(stars) AS Average_Rating\n",
    "FROM business\n",
    "WHERE business_id IN {tuple(business_id['business_id'])}\n",
    "GROUP BY name\n",
    "ORDER BY Average_Rating DESC\n",
    "LIMIT 10\"\"\", conn)"
   ]
  },
  {
   "cell_type": "code",
   "execution_count": null,
   "id": "23b70057-8cfb-48eb-892f-105a66a5dfb7",
   "metadata": {},
   "outputs": [],
   "source": [
    "# Do restaurants with higher engagement tends to have higher ratings??\n",
    "\n",
    "# Getting checkin count\n",
    "pd.read_sql_query(\"\"\"SELECT business_id,\n",
    "SUM(LENGTH(date) - LENGTH(REPLACE(date,',',''))+1) AS Checkin_Count\n",
    "FROM checkin\n",
    "GROUP BY business_id\"\"\", conn)"
   ]
  },
  {
   "cell_type": "code",
   "execution_count": null,
   "id": "f3e7bfa6-0014-49c2-b842-0951fc13c55f",
   "metadata": {},
   "outputs": [],
   "source": [
    "# Getting tip count\n",
    "pd.read_sql_query(\"\"\"SELECT business_id,\n",
    "COUNT(*) AS Tip_Count\n",
    "FROM tip\n",
    "GROUP BY business_id\"\"\", conn)"
   ]
  },
  {
   "cell_type": "code",
   "execution_count": null,
   "id": "e1e6a27b-508e-42af-9f3e-52a1de9ad97f",
   "metadata": {},
   "outputs": [],
   "source": [
    "# This code retrieves average rating, review count, checkin count, and tip count data for a specific set of businesses.\n",
    "\n",
    "# Inner query (aliased as 'total'):\n",
    "# 1. Selects data from the 'business' table, including business ID, total review count per business, \n",
    "#    average star rating per business, and calculated check-in count based on comma separated dates in the 'checkin' table.\n",
    "# 2. Left joins with the 'checkin' table to include check-in data (even for businesses without check-ins).\n",
    "# 3. Left joins with a subquery that calculates tip count per business from the 'tip' table.\n",
    "# 4. Filters results to only include businesses specified in the 'business_id' list.\n",
    "# 5. Groups data by business ID.\n",
    "\n",
    "# Outer query:\n",
    "# 1. Selects and calculates average values from the inner query results ('total') for: average rating, \n",
    "#    review count, check-in count, and tip count.\n",
    "# 2. Groups the final results by average rating.\n",
    "review_count_df = pd.read_sql_query(f\"\"\"SELECT total.avg_rating as rating,\n",
    "AVG(total.review_count) AS avg_review_count,\n",
    "AVG(total.checkin_count) AS avg_checkin_count,\n",
    "AVG(total.tip_count) AS avg_tip_count\n",
    "FROM\n",
    "(SELECT\n",
    "    b.business_id,\n",
    "    SUM(b.review_count) AS review_count,\n",
    "    AVG(b.stars) AS avg_rating,\n",
    "    SUM(LENGTH(cc.date) - LENGTH (REPLACE(cc.date, ',', '')) + 1) AS checkin_count,\n",
    "    SUM(tip.tip_count) as tip_count\n",
    "FROM    \n",
    "    business b\n",
    "LEFT JOIN\n",
    "    checkin cc ON b.business_id = cc.business_id\n",
    "LEFT JOIN\n",
    "    (SELECT business_id, COUNT (business_id) as tip_count FROM tip GROUP BY business_id ORDER BY tip_count) AS tip ON b.business_id = tip.business_id\n",
    "WHERE b.business_id IN {tuple(business_id ['business_id'])}\n",
    "GROUP BY\n",
    "    b.business_id) AS total\n",
    "    \n",
    "GROUP BY total.avg_rating\n",
    "\n",
    "\"\"\",conn)"
   ]
  },
  {
   "cell_type": "code",
   "execution_count": null,
   "id": "70ec5d99-7eb0-4b71-8d7d-c293efac0d9d",
   "metadata": {},
   "outputs": [],
   "source": [
    "# This code creates a visualization of the average review count, check-in count, \n",
    "# and tip count for businesses grouped by their average rating.\n",
    "\n",
    "# Configure plot\n",
    "plt.figure(figsize=(15, 5))  # Create a figure with desired size\n",
    "plt.title('AVG Engagement based on Rating\\n\\n')  # Set the title\n",
    "\n",
    "# Suppress default x and y ticks labels\n",
    "plt.yticks([])\n",
    "plt.xticks([])\n",
    "\n",
    "# Subplot 1: Review Count\n",
    "plt.subplot(1, 3, 1)  # Create subplot in a 1 row, 3 column grid at position 1\n",
    "plt.title('Review Count')  # Set subplot title\n",
    "plt.barh(  # Create horizontal bar chart\n",
    "    review_count_df['rating'].astype('str'),  # X-axis: rating values as strings\n",
    "    review_count_df['avg_review_count'],  # Y-axis: average review count values\n",
    "    edgecolor='k', color='#CB754B'  # Bar properties: black border, orange color\n",
    ")\n",
    "plt.gca().spines['right'].set_visible(False)  # Hide right spine for aesthetics\n",
    "# Add data labels above bars\n",
    "for i, value in enumerate(review_count_df['avg_review_count']):\n",
    "    plt.text(value + 3, i, str(round(value)), color='black', va='center')\n",
    "plt.xticks([])  # Suppress x-axis ticks again\n",
    "\n",
    "# Subplot 2: Checkin Count (similar structure as subplot 1)\n",
    "plt.subplot(1, 3, 2)\n",
    "plt.title('Checkin Count')\n",
    "plt.barh(\n",
    "    review_count_df['rating'].astype('str'),\n",
    "    review_count_df['avg_checkin_count'],\n",
    "    edgecolor='k',\n",
    "    color='#F8862C'\n",
    ")\n",
    "plt.gca().spines['right'].set_visible(False)\n",
    "for i, value in enumerate(review_count_df['avg_checkin_count']):\n",
    "    plt.text(value + 3, i, str(round(value)), color='black', va='center')\n",
    "plt.xticks([])\n",
    "\n",
    "# Subplot 3: Tip Count (similar structure as subplot 1)\n",
    "plt.subplot(1, 3, 3)\n",
    "plt.title('Tip Count')\n",
    "plt.barh(\n",
    "    review_count_df['rating'].astype('str'),\n",
    "    review_count_df['avg_tip_count'],\n",
    "    edgecolor='k',\n",
    "    color='#E54F29'\n",
    ")\n",
    "for i, value in enumerate(review_count_df['avg_tip_count']):\n",
    "    plt.text(value + 0.05, i, str(round(value)), color='black', va='center')\n",
    "plt.xticks([])\n",
    "\n",
    "# Display the plot\n",
    "plt.show()\n"
   ]
  },
  {
   "cell_type": "code",
   "execution_count": null,
   "id": "893cdfb8-eaf6-44d8-bde2-ecc5976aa49b",
   "metadata": {},
   "outputs": [],
   "source": [
    "# Is there a correlation between the number of reviews, tips and check-ins for a business??\n",
    "engagement_df = pd.read_sql_query(f\"\"\"SELECT\n",
    "    b.business_id,\n",
    "    SUM(b.review_count) AS review_count,\n",
    "    AVG(b.stars) AS avg_rating,\n",
    "    SUM(LENGTH(cc.date) - LENGTH (REPLACE(cc.date, ',', '')) + 1) AS checkin_count,\n",
    "    SUM(tip.tip_count) as tip_count\n",
    "FROM    \n",
    "    business b\n",
    "LEFT JOIN\n",
    "    checkin cc ON b.business_id = cc.business_id\n",
    "LEFT JOIN\n",
    "    (SELECT business_id, COUNT (business_id) as tip_count FROM tip GROUP BY business_id ORDER BY tip_count) AS tip ON b.business_id = tip.business_id\n",
    "WHERE b.business_id IN {tuple(business_id ['business_id'])}\n",
    "GROUP BY\n",
    "    b.business_id\n",
    "\n",
    "\"\"\",conn).dropna()"
   ]
  },
  {
   "cell_type": "code",
   "execution_count": null,
   "id": "f909d5dc-0a50-4268-bffc-c7c35b495289",
   "metadata": {},
   "outputs": [],
   "source": [
    "engagement_df[['review_count', 'checkin_count', 'tip_count']].corr()"
   ]
  },
  {
   "cell_type": "code",
   "execution_count": null,
   "id": "9007c01d-80c3-4612-b1ff-115567c02bc2",
   "metadata": {},
   "outputs": [],
   "source": [
    "# Creating heatmap for showing correlation\n",
    "# Creating a custom colormap\n",
    "colors = ['#FFF1E5', '#F8862C', '#CB754B']\n",
    "custom_cmap = LinearSegmentedColormap.from_list(\"mycmap\", colors)\n",
    "\n",
    "# Define the line color\n",
    "linecolor = 'black'\n",
    "\n",
    "# Create the heatmap\n",
    "sns.heatmap(\n",
    "    engagement_df[['review_count', 'checkin_count', 'tip_count']].corr(), \n",
    "    cmap=custom_cmap, \n",
    "    annot=True, \n",
    "    linewidths=0.5, \n",
    "    linecolor=linecolor\n",
    ")\n"
   ]
  },
  {
   "cell_type": "code",
   "execution_count": null,
   "id": "6da2f5b6-5fba-432e-ac7c-f208df4121af",
   "metadata": {},
   "outputs": [],
   "source": [
    "# Is there a difference in the user engagement (reviews, tips and check-ins) between high rated and low rated business?\n",
    "pd.read_sql_query(f\"\"\"\n",
    "SELECT\n",
    "    b.business_id,\n",
    "    SUM(b.review_count) AS Review_Count,\n",
    "    AVG(b.stars) AS AVG_Rating,\n",
    "    SUM(LENGTH(cc.date) - LENGTH(REPLACE(cc.date, ',', '')) + 1) AS Checkin_Count,\n",
    "    SUM(COALESCE(tip.tip_count, 0)) AS Tip_Count,\n",
    "    (CASE WHEN b.stars >= 3.5 Then 'High-Rated' ELSE 'Low-Rated' End) AS Category\n",
    "FROM\n",
    "    business b\n",
    "LEFT JOIN\n",
    "    checkin cc ON b.business_id = cc.business_id\n",
    "LEFT JOIN\n",
    "    (SELECT business_id, COUNT(business_id) AS Tip_Count \n",
    "     FROM tip \n",
    "     GROUP BY business_id) AS Tip \n",
    "ON b.business_id = tip.business_id\n",
    "WHERE b.business_id IN {tuple(business_id['business_id'])}\n",
    "GROUP BY\n",
    "    b.business_id\n",
    "\"\"\", conn).dropna()\n",
    "\n",
    "# Making Category column\n",
    "engagement_df['Category'] = engagement_df['avg_rating'].apply(lambda x: 'High-Rated' if x >= 3.5 else 'Low-Rated')"
   ]
  },
  {
   "cell_type": "code",
   "execution_count": null,
   "id": "0cab8f5f-dd7e-4a68-8fef-c92030e04154",
   "metadata": {},
   "outputs": [],
   "source": [
    "engagement_df.groupby('Category')[['review_count', 'tip_count', 'checkin_count']].mean()"
   ]
  },
  {
   "cell_type": "code",
   "execution_count": null,
   "id": "42a604fb-3533-4d11-a5b7-77714aa51e46",
   "metadata": {},
   "outputs": [],
   "source": [
    "# Function to calculate the success score based on the avg rating and total review count \n",
    "def calculate_success_metric(df):\n",
    "    success_score = []\n",
    "    for index, row in df.iterrows():\n",
    "        score = row['avg_rating'] * np.log(row['review_count'] + 1)\n",
    "        success_score.append(score)\n",
    "    return success_score"
   ]
  },
  {
   "cell_type": "code",
   "execution_count": null,
   "id": "576ea77c-c85c-4fcc-9409-eff89b4e45ff",
   "metadata": {},
   "outputs": [],
   "source": [
    "# How do the success metric (review_count or avg_rating) of restaurants vary across different states and cities?\n",
    "city_df = pd.read_sql_query(f\"\"\"SELECT city, state, latitude, longitude, \n",
    "AVG(stars) AS avg_rating, \n",
    "SUM(review_count) AS review_count, \n",
    "COUNT(*) AS Restaurant_Count \n",
    "FROM business\n",
    "WHERE business_id IN {tuple(business_id['business_id'])}\n",
    "GROUP BY state, city\n",
    "ORDER BY review_count DESC\n",
    "LIMIT 10\"\"\", conn)\n",
    "\n",
    "# Creating new column \"Sucess Score\"\n",
    "city_df['Success_Score'] = calculate_success_metric(city_df)"
   ]
  },
  {
   "cell_type": "code",
   "execution_count": null,
   "id": "87b8c781-7747-4aad-87d3-608348a3d2c5",
   "metadata": {},
   "outputs": [],
   "source": [
    "city_df"
   ]
  },
  {
   "cell_type": "code",
   "execution_count": null,
   "id": "72fbfbae-8f99-43c0-90cc-2bde43fa8d8b",
   "metadata": {},
   "outputs": [],
   "source": [
    "# Create a base map\n",
    "m = folium.Map(location= [city_df ['latitude'].mean(), city_df ['longitude'].mean()], zoom_start=4)\n",
    "                          \n",
    "# Define color scale\n",
    "color_scale = folium.LinearColormap(colors=['green', 'yellow', '#E54F29'],\n",
    "                                    vmin=city_df ['Success_Score'].min(),\n",
    "                                    vmax=city_df ['Success_Score'].max())\n",
    "\n",
    "# Add markers to the map\n",
    "for index, row in city_df.iterrows():\n",
    "    folium.CircleMarker(\n",
    "        location=[row['latitude'], row['longitude']],\n",
    "        radius=5,\n",
    "        color=color_scale(row['Success_Score']),\n",
    "        fill=True,\n",
    "        fill_color=color_scale(row['Success_Score']),\n",
    "        fill_opacity=0.7,\n",
    "        popup=f\"Success Score: {row['Success_Score']}\"\n",
    "        ).add_to(m)\n",
    "\n",
    "# Add color scale to the map \n",
    "m.add_child (color_scale)"
   ]
  },
  {
   "cell_type": "code",
   "execution_count": null,
   "id": "1a136f6b-b511-4495-8437-cfd90d048382",
   "metadata": {},
   "outputs": [],
   "source": [
    "#Are there any patterns in user engagement over time for successful businesses compared to less successful ones?\n",
    "# Are there any seasonal trends in the user engagement for restaurants?\n",
    "\n",
    "# This query retrieves monthly review count and tip count data for businesses with a star rating of 3.5 or higher.\n",
    "\n",
    "# Subqueries:\n",
    "#  - Review subquery: calculates monthly review counts for high-rated businesses (stars >= 3.5).\n",
    "#  - Tip subquery: calculates average star rating and monthly tip counts for high-rated businesses.\n",
    "\n",
    "# Main query: joins review and tip subqueries by month_year to get combined engagement metrics.\n",
    "\n",
    "high_rated_engagement = pd.read_sql_query(f\"\"\"\n",
    "SELECT review.month_year, review.review_count, tip.tip_count FROM\n",
    "(SELECT strftime('%m-%Y', date) AS month_year, COUNT(*) AS review_count\n",
    "FROM review\n",
    "WHERE business_id IN {tuple(business_id['business_id'])} AND stars >= 3.5\n",
    "GROUP BY month_year\n",
    "ORDER BY month_year) AS review\n",
    "JOIN\n",
    "(SELECT AVG(b.stars), strftime('%m-%Y', tip.date) AS month_year, COUNT(*) AS tip_count\n",
    "FROM tip\n",
    "JOIN business AS b\n",
    "ON tip.business_id = b.business_id\n",
    "WHERE tip.business_id IN {tuple(business_id['business_id'])} AND b.stars >= 3.5\n",
    "GROUP BY month_year\n",
    "ORDER BY month_year) AS tip\n",
    "\n",
    "ON review.month_year = tip.month_year\n",
    ";\"\"\", conn)\n",
    "\n",
    "\n",
    "low_rated_engagement = pd.read_sql_query(f\"\"\"\n",
    "SELECT review.month_year, review.review_count, tip.tip_count FROM\n",
    "(SELECT strftime('%m-%Y', date) AS month_year, COUNT(*) AS review_count\n",
    "FROM review\n",
    "WHERE business_id IN {tuple(business_id['business_id'])} AND stars < 3.5\n",
    "GROUP BY month_year\n",
    "ORDER BY month_year) AS review\n",
    "JOIN\n",
    "(SELECT AVG(b.stars), strftime('%m-%Y', tip.date) AS month_year, COUNT(*) AS tip_count\n",
    "FROM tip\n",
    "JOIN business AS b\n",
    "ON tip.business_id = b.business_id\n",
    "WHERE tip.business_id IN {tuple(business_id['business_id'])} AND b.stars < 3.5\n",
    "GROUP BY month_year\n",
    "ORDER BY month_year) AS tip\n",
    "ON review.month_year = tip.month_year\n",
    "\n",
    ";\"\"\",conn)"
   ]
  },
  {
   "cell_type": "code",
   "execution_count": null,
   "id": "bddbc033-7178-4c61-92aa-d6722c5ce2c7",
   "metadata": {},
   "outputs": [],
   "source": [
    "high_rated_engagement"
   ]
  },
  {
   "cell_type": "code",
   "execution_count": null,
   "id": "823746ca-138b-45f5-ae56-7c3fed1c2329",
   "metadata": {},
   "outputs": [],
   "source": [
    "low_rated_engagement"
   ]
  },
  {
   "cell_type": "code",
   "execution_count": null,
   "id": "c52ef84b-4e3a-4a49-9167-83be8340f6d5",
   "metadata": {},
   "outputs": [],
   "source": [
    "time_rating = pd.read_sql_query(f\"\"\"SELECT strftime('%m-%Y', date) AS month_year, AVG(stars) as avg_rating\n",
    "FROM review\n",
    "WHERE business_id IN {tuple(business_id ['business_id'])}\n",
    "GROUP BY month_year\n",
    "ORDER BY month_year\n",
    ";\"\"\", conn)"
   ]
  },
  {
   "cell_type": "code",
   "execution_count": null,
   "id": "f1e89719-1555-4de8-bcea-99ef3a3ab43e",
   "metadata": {},
   "outputs": [],
   "source": [
    "time_rating"
   ]
  },
  {
   "cell_type": "code",
   "execution_count": null,
   "id": "8f570d18-9eea-4e55-ba1c-e30c9be9dde3",
   "metadata": {},
   "outputs": [],
   "source": [
    "# Convert 'month_year' column in 'time_rating' DataFrame to datetime format\n",
    "time_rating['month_year'] = pd.to_datetime(time_rating['month_year'])\n",
    "\n",
    "# Sort 'time_rating' DataFrame by 'month_year' in ascending order (oldest to newest)\n",
    "time_rating.sort_values('month_year', inplace=True)\n",
    "\n",
    "# Filter 'time_rating' DataFrame to only include rows where 'month_year' is after '2017-01-01'\n",
    "time_rating = time_rating[time_rating['month_year'] > '2017-01-01']\n",
    "\n",
    "# Similar steps applied to 'high_rated_engagement' and 'low_rated_engagement' DataFrames:\n",
    "\n",
    "# 1. Convert 'month_year' to datetime\n",
    "high_rated_engagement['month_year'] = pd.to_datetime(high_rated_engagement['month_year'])\n",
    "low_rated_engagement['month_year'] = pd.to_datetime(low_rated_engagement['month_year'])\n",
    "\n",
    "# 2. Sort by 'month_year'\n",
    "high_rated_engagement.sort_values('month_year', inplace=True)\n",
    "low_rated_engagement.sort_values('month_year', inplace=True)\n",
    "\n",
    "# 3. Filter for dates after '2017-01-01'\n",
    "high_rated_engagement = high_rated_engagement[high_rated_engagement['month_year'] > '2017-01-01']\n",
    "low_rated_engagement = low_rated_engagement[low_rated_engagement['month_year'] > '2017-01-01']"
   ]
  },
  {
   "cell_type": "code",
   "execution_count": null,
   "id": "23125b44-23ec-459c-8582-0914087149cf",
   "metadata": {},
   "outputs": [],
   "source": [
    "high_rated_engagement['avg_rating'] = time_rating['avg_rating'].values"
   ]
  },
  {
   "cell_type": "code",
   "execution_count": null,
   "id": "0d650cbe-029a-431a-9490-04181e013a7c",
   "metadata": {},
   "outputs": [],
   "source": [
    "plt.figure(figsize = (15,8))\n",
    "plt.subplot(3,1,1)\n",
    "plt.title('Tip Engagement Over Time')\n",
    "plt.plot(high_rated_engagement['month_year'], high_rated_engagement['tip_count'], label = 'High Rated', color = '#E54F29') \n",
    "plt.plot(low_rated_engagement ['month_year'], low_rated_engagement ['tip_count'], label ='Low Rated', color = '#F8862C') \n",
    "plt.legend()\n",
    "plt.subplot(3,1,2)\n",
    "plt.title('Review Engagement Over Time')\n",
    "plt.plot(high_rated_engagement['month_year'], high_rated_engagement['review_count'], label = 'High Rated', color = '#E54F29') \n",
    "plt.plot(low_rated_engagement ['month_year'], low_rated_engagement ['review_count'], label = 'Low Rated', color = '#F8862C') \n",
    "plt.legend()\n",
    "plt.subplot(3,1,3)\n",
    "plt.title('Avg Rating Over Time')\n",
    "plt.plot(time_rating['month_year'], time_rating ['avg_rating'], color = '#E54F29')\n",
    "plt.tight_layout()\n",
    "plt.show()"
   ]
  },
  {
   "cell_type": "code",
   "execution_count": null,
   "id": "59c0c0f7-736c-42bc-8146-8a54febcd7ac",
   "metadata": {},
   "outputs": [],
   "source": [
    "tip_high_rated = high_rated_engagement [ ['month_year', 'tip_count']].set_index('month_year') \n",
    "review_high_rated = high_rated_engagement [['month_year', 'review_count']].set_index('month_year') \n",
    "rating_df = time_rating [['month_year', 'avg_rating']].set_index('month_year')"
   ]
  },
  {
   "cell_type": "code",
   "execution_count": null,
   "id": "885d5d74-19dd-49f7-8a6b-53d0eaa0a8b4",
   "metadata": {},
   "outputs": [],
   "source": [
    "from statsmodels.tsa.seasonal import seasonal_decompose \n",
    "multiplicative_decomposition = seasonal_decompose(tip_high_rated,\n",
    "                                                  model='multiplicative', period = 12)\n",
    "plt.rcParams.update({'figure.figsize': (16,12)})\n",
    "multiplicative_decomposition.plot()\n",
    "plt.show()"
   ]
  },
  {
   "cell_type": "code",
   "execution_count": null,
   "id": "76e77081-ba18-4955-a7b5-42e7bdd77b96",
   "metadata": {},
   "outputs": [],
   "source": [
    "from statsmodels.tsa.seasonal import seasonal_decompose \n",
    "multiplicative_decomposition = seasonal_decompose(review_high_rated,\n",
    "                                                  model='multiplicative', period = 12)\n",
    "plt.rcParams.update({'figure.figsize': (16,12)})\n",
    "multiplicative_decomposition.plot()\n",
    "plt.show()"
   ]
  },
  {
   "cell_type": "code",
   "execution_count": null,
   "id": "125d1a16-dc8e-4795-be3f-fa0f08b3abcd",
   "metadata": {},
   "outputs": [],
   "source": [
    "# How does the sentiment of reviews and tips (useful, funny, cool) correlate with the success metrics of restaurants?"
   ]
  },
  {
   "cell_type": "code",
   "execution_count": null,
   "id": "fb308c08-8fd6-4b5e-84f2-c16108221486",
   "metadata": {},
   "outputs": [],
   "source": [
    "sentiment_df = pd.read_sql_query(f\"\"\"SELECT b.business_id, AVG(b.stars) AS avg_rating, SUM(b.review_count) AS review_count,\n",
    "SUM(s.useful_count) AS useful_count,\n",
    "SUM(s.funny_count) AS funny_count,\n",
    "SUM(s.cool_count) AS cool_count\n",
    "FROM\n",
    "    (SELECT business_id,\n",
    "    SUM(useful) AS useful_count,\n",
    "    SUM(funny) AS funny_count,\n",
    "    SUM(cool) AS cool_count\n",
    "FROM\n",
    "    review\n",
    "GROUP BY business_id) AS s\n",
    "JOIN business AS b on b.business_id = s.business_id\n",
    "\n",
    "WHERE b.business_id IN {tuple(business_id ['business_id'])} \n",
    "GROUP BY b.business_id\n",
    "ORDER BY review_count\"\"\", conn)\n",
    "\n",
    "sentiment_df = remove_outliers(sentiment_df, 'review_count')\n",
    "sentiment_df = remove_outliers(sentiment_df, 'useful_count')\n",
    "sentiment_df = remove_outliers(sentiment_df, 'funny_count')\n",
    "sentiment_df = remove_outliers(sentiment_df, 'cool_count')"
   ]
  },
  {
   "cell_type": "code",
   "execution_count": null,
   "id": "fa14cd78-05a0-4788-942c-fb9cbeaf2f18",
   "metadata": {},
   "outputs": [],
   "source": [
    "sentiment_df['success_score'] = calculate_success_metric(sentiment_df)"
   ]
  },
  {
   "cell_type": "code",
   "execution_count": null,
   "id": "00027c73-ff84-414b-91ee-201eaf60d5a8",
   "metadata": {},
   "outputs": [],
   "source": [
    "sns.heatmap(sentiment_df.iloc[:, 2:].corr(), cmap = custom_cmap, annot = True, linewidths = 0.5, linecolor = 'black')\n",
    "plt.show()"
   ]
  },
  {
   "cell_type": "code",
   "execution_count": null,
   "id": "3b1ef4e9-7c42-4063-8ef8-a9c823240923",
   "metadata": {},
   "outputs": [],
   "source": [
    "#Is there any difference in engagement of elite users and non elite users? \n",
    "elite_df = pd.read_sql_query(f\"\"\"SELECT\n",
    "    elite,\n",
    "    COUNT(*) AS row_count,\n",
    "    SUM(review_count) AS total_review_count\n",
    "FROM\n",
    "    (SELECT\n",
    "        CASE\n",
    "            WHEN elite = ''THEN 'Not Elite' \n",
    "            ELSE 'Elite'\n",
    "        END AS elite,\n",
    "        u.review_count\n",
    "     FROM\n",
    "        user u) AS user_elite\n",
    "GROUP BY\n",
    "    elite;\n",
    "\"\"\", conn)"
   ]
  },
  {
   "cell_type": "code",
   "execution_count": null,
   "id": "8c616111-1989-48da-b36c-9965b996298a",
   "metadata": {},
   "outputs": [],
   "source": [
    "query = \"\"\"\n",
    "SELECT \n",
    "    CASE\n",
    "        WHEN elite = '' THEN 'Not Elite'\n",
    "        ELSE 'Elite'\n",
    "    END AS elite_status,\n",
    "    COUNT(*) AS num_users\n",
    "FROM \n",
    "    user\n",
    "GROUP BY \n",
    "    elite_status\n",
    "\"\"\"\n",
    "\n",
    "# Execute the query and read the result into a DataFrame\n",
    "user_counts_df = pd.read_sql_query(query, conn)\n",
    "\n",
    "# Display the DataFrame to ensure it has the expected structure\n",
    "print(user_counts_df)\n",
    "\n",
    "# Assign the 'num_users' column from the user_counts_df DataFrame to the 'num_users' column in elite_df\n",
    "elite_df['num_users'] = user_counts_df['num_users']"
   ]
  },
  {
   "cell_type": "code",
   "execution_count": null,
   "id": "c35e60a9-748a-4329-9671-b0651f55f5c3",
   "metadata": {},
   "outputs": [],
   "source": [
    "# Execute your SQL query to fetch the count of users and total review count for both Elite and non-Elite categories\n",
    "query = \"\"\"\n",
    "SELECT \n",
    "    CASE\n",
    "        WHEN elite = '' THEN 'Not Elite'\n",
    "        ELSE 'Elite'\n",
    "    END AS elite_status,\n",
    "    COUNT(*) AS num_users,\n",
    "    SUM(review_count) AS total_review_count\n",
    "FROM \n",
    "    user\n",
    "GROUP BY \n",
    "    elite_status\n",
    "\"\"\"\n",
    "\n",
    "# Execute the query and read the result into a DataFrame\n",
    "user_review_counts_df = pd.read_sql_query(query, conn)\n",
    "\n",
    "# Display the DataFrame to ensure it has the expected structure\n",
    "print(user_review_counts_df)\n",
    "\n",
    "# Assign the 'num_users' and 'total_review_count' columns from the user_review_counts_df DataFrame to the respective columns in elite_df\n",
    "elite_df['num_users'] = user_review_counts_df['num_users']\n",
    "elite_df['total_review_count'] = user_review_counts_df['total_review_count']"
   ]
  },
  {
   "cell_type": "code",
   "execution_count": null,
   "id": "9d264daf-4744-49f9-aa28-9c71baca7705",
   "metadata": {},
   "outputs": [],
   "source": [
    "elite_df"
   ]
  },
  {
   "cell_type": "code",
   "execution_count": null,
   "id": "23c85a92-b4b6-4197-aa9d-a3bce82b44a2",
   "metadata": {},
   "outputs": [],
   "source": [
    "plt.figure(figsize=(10, 6))\n",
    "\n",
    "# Plotting User Distribution\n",
    "plt.subplot(1, 2, 1)\n",
    "plt.title('User Distribution')\n",
    "plt.pie(elite_df['num_users'], labels=elite_df['elite'], autopct='%.2f', startangle=180, colors=['#E54F29', '#F8862C'])\n",
    "\n",
    "# Plotting Review Distribution\n",
    "plt.subplot(1, 2, 2)\n",
    "plt.title('Review Distribution')\n",
    "plt.pie(elite_df['total_review_count'], labels=elite_df['elite'], autopct='%.2f', startangle=90, colors=['#E54F29', '#F8862C'])\n",
    "\n",
    "plt.show()"
   ]
  },
  {
   "cell_type": "code",
   "execution_count": null,
   "id": "a98657c3-4dea-4e19-9ef2-b292ec650546",
   "metadata": {},
   "outputs": [],
   "source": [
    "#What are the busiest hours for restaurants?\n",
    "\n",
    "review_engagement = pd.read_sql_query(\"\"\"SELECT\n",
    "    cast (strftime('%H', date) as integer)\n",
    "    AS hour,\n",
    "    COUNT(*) AS review_count\n",
    "FROM\n",
    "    review\n",
    "GROUP BY\n",
    "    hour;\n",
    "\"\"\", conn)\n",
    "\n",
    "\n",
    "tip_engagement = pd.read_sql_query(\"\"\"SELECT\n",
    "    cast (strftime('%H', date) as integer)\n",
    "    as hour,\n",
    "    COUNT(*) AS tip_count\n",
    "FROM\n",
    "    tip\n",
    "GROUP BY\n",
    "    hour;\n",
    "\"\"\", conn)\n",
    "\n",
    "\n",
    "# Extract hour from checkin dates\n",
    "checkin = pd.read_sql_query(\"SELECT date FROM checkin\", conn)\n",
    "checkin_engagement = []\n",
    "for dates in checkin['date']:\n",
    "    for date_str in dates.split(','):\n",
    "        date_str = date_str.strip()\n",
    "        try:\n",
    "            hour = datetime.strptime(date_str, \"%Y-%m-%d %H:%M:%S\").hour\n",
    "            checkin_engagement.append(hour)\n",
    "        except ValueError as e:\n",
    "            print(f\"Error parsing date: {date_str} -> {e}\")\n",
    "\n",
    "checkin_engagement = pd.DataFrame(checkin_engagement, columns=['hour'])\n",
    "checkin_engagement = checkin_engagement.groupby('hour').size().reset_index(name='checkin_count')"
   ]
  },
  {
   "cell_type": "code",
   "execution_count": null,
   "id": "0a24ccb6-4834-40a4-94a3-58943730a355",
   "metadata": {},
   "outputs": [],
   "source": [
    "plt.figure(figsize=(10, 6))\n",
    "\n",
    "# Plot Tip Engagement\n",
    "plt.subplot(3, 1, 1)\n",
    "plt.title('Tip Engagement')\n",
    "plt.bar(tip_engagement['hour'], tip_engagement['tip_count'], color='#E54F29')\n",
    "\n",
    "# Plot Review Engagement\n",
    "plt.subplot(3, 1, 2)\n",
    "plt.title('Review Engagement')\n",
    "plt.bar(review_engagement['hour'], review_engagement['review_count'], color='#F8862C')\n",
    "\n",
    "# Plot Checkin Engagement\n",
    "plt.subplot(3, 1, 3)\n",
    "plt.title('Checkin Engagement')\n",
    "plt.bar(checkin_engagement.index, checkin_engagement['checkin_count'], color='#CB754B')\n",
    "\n",
    "plt.tight_layout()\n",
    "plt.show()"
   ]
  },
  {
   "cell_type": "code",
   "execution_count": null,
   "id": "b594b4c1-c736-488a-a33e-67bd9ec90d85",
   "metadata": {},
   "outputs": [],
   "source": []
  },
  {
   "cell_type": "code",
   "execution_count": null,
   "id": "0604e0e8-f45d-4ee7-b0d9-f4e955f1c008",
   "metadata": {},
   "outputs": [],
   "source": []
  }
 ],
 "metadata": {
  "kernelspec": {
   "display_name": "Python 3 (ipykernel)",
   "language": "python",
   "name": "python3"
  },
  "language_info": {
   "codemirror_mode": {
    "name": "ipython",
    "version": 3
   },
   "file_extension": ".py",
   "mimetype": "text/x-python",
   "name": "python",
   "nbconvert_exporter": "python",
   "pygments_lexer": "ipython3",
   "version": "3.12.2"
  }
 },
 "nbformat": 4,
 "nbformat_minor": 5
}
